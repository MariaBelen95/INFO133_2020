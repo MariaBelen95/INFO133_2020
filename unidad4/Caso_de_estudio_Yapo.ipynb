{
 "cells": [
  {
   "cell_type": "markdown",
   "metadata": {},
   "source": [
    "Este notebook está vinculado al caso de estudio \"Yapo\" (ver el [documento](https://docs.google.com/document/d/1SwhwMOyG7-cmzasDeisQZ_NzX5v2VoZ7--lI4UhJz_U/edit#heading=h.5qaqs0frqkx4) de presentación). Se busca construir una base de datos de anuncios en Los Rios recopilando algunos anuncios de Yapo.cl.\n"
   ]
  },
  {
   "cell_type": "markdown",
   "metadata": {},
   "source": [
    "# 1. Construcción de la base de datos"
   ]
  },
  {
   "cell_type": "code",
   "execution_count": 2,
   "metadata": {},
   "outputs": [],
   "source": [
    "import mysql.connector \n",
    "\n",
    "db_connection = mysql.connector.connect(user=\"root\",host=\"localhost\",password=\"root\")\n",
    "cursor = db_connection.cursor()"
   ]
  },
  {
   "cell_type": "code",
   "execution_count": 40,
   "metadata": {},
   "outputs": [],
   "source": [
    "cursor.execute(\"DROP DATABASE Yapo;\")"
   ]
  },
  {
   "cell_type": "code",
   "execution_count": 41,
   "metadata": {},
   "outputs": [],
   "source": [
    "cursor.execute(\"CREATE DATABASE Yapo;\")\n",
    "cursor.execute(\"USE Yapo\")\n",
    "\n",
    "#tabla vendedor\n",
    "cursor.execute(\"CREATE TABLE vendedor (telefono VARCHAR(20) PRIMARY KEY, \"+\n",
    "               \"nombre VARCHAR(100), ciudad VARCHAR(30), codigo_region VARCHAR(3), nombre_region VARCHAR(30), \"+\n",
    "               \"fecha_inscripcion VARCHAR(30))\")\n",
    "\n",
    "\n",
    "#tabla anuncio\n",
    "cursor.execute(\"CREATE TABLE anuncio (url VARCHAR(300) PRIMARY KEY, \"+\n",
    "               \"titulo VARCHAR(200), descripcion MEDIUMTEXT, precio VARCHAR(30), categoria VARCHAR(50), \"\n",
    "               +\"telefono VARCHAR(20), FOREIGN KEY (telefono) REFERENCES vendedor(telefono))\")"
   ]
  },
  {
   "cell_type": "markdown",
   "metadata": {},
   "source": [
    "# 2. Scrapping de datos para llenar nuestra base de datos Yapo"
   ]
  },
  {
   "cell_type": "code",
   "execution_count": 6,
   "metadata": {},
   "outputs": [],
   "source": [
    "from urllib.request import urlopen as uReq\n",
    "from bs4 import BeautifulSoup as soup\n",
    "import pandas as pd\n",
    "import urllib.request\n",
    "from selenium import webdriver\n",
    "import time"
   ]
  },
  {
   "cell_type": "markdown",
   "metadata": {},
   "source": [
    "Con la librería Selenium, abriremos un navegador Chrome, en la página de los anuncios de Yapo en la región de Los Rios..."
   ]
  },
  {
   "cell_type": "code",
   "execution_count": 42,
   "metadata": {},
   "outputs": [],
   "source": [
    "browser = webdriver.Chrome()\n",
    "myUrl = 'https://www.yapo.cl/los_rios/todos_los_avisos?ca=11_s&l=0&w=1&cmn=243'\n",
    "browser.get(myUrl)"
   ]
  },
  {
   "cell_type": "markdown",
   "metadata": {},
   "source": [
    "Con la librería BeautifulSoup, realizamos un scrapping del código HTML para recuperar el enlace de la \"última página\"..."
   ]
  },
  {
   "cell_type": "code",
   "execution_count": 43,
   "metadata": {},
   "outputs": [],
   "source": [
    "pageSoup = soup(browser.page_source, 'html.parser')\n",
    "\n",
    "pages = pageSoup.find('span',  {'class', 'nohistory FloatRight'}).a['href']"
   ]
  },
  {
   "cell_type": "code",
   "execution_count": 44,
   "metadata": {},
   "outputs": [
    {
     "data": {
      "text/plain": [
       "'https://www.yapo.cl/los_rios?ca=11_s&cmn=243&o=655'"
      ]
     },
     "execution_count": 44,
     "metadata": {},
     "output_type": "execute_result"
    }
   ],
   "source": [
    "pages"
   ]
  },
  {
   "cell_type": "markdown",
   "metadata": {},
   "source": [
    "El parametro 'o' de la URL corresponde al número de la pagina en la lista de anuncios."
   ]
  },
  {
   "cell_type": "code",
   "execution_count": 45,
   "metadata": {},
   "outputs": [
    {
     "name": "stdout",
     "output_type": "stream",
     "text": [
      "46\n",
      "655\n",
      "https://www.yapo.cl/los_rios?ca=11_s&cmn=243&o=\n"
     ]
    }
   ],
   "source": [
    "index = pages.rfind('=')\n",
    "print(index)\n",
    "lastPage = int(pages[index+1:])\n",
    "print(lastPage)\n",
    "root_pages = pages[:index+1]\n",
    "print(root_pages)"
   ]
  },
  {
   "cell_type": "markdown",
   "metadata": {},
   "source": [
    "- la variable \"index\" permite identificar el indice del último caracter '='.\n",
    "\n",
    "- la variable \"lastPage\" permite identificar el numero de la última página en la URL.\n",
    "\n",
    "- la variable \"root_pages\" permite aislar la cadena de caracteres que corresponde a la raiz de la URL (sin el numero de página).\n"
   ]
  },
  {
   "cell_type": "markdown",
   "metadata": {},
   "source": [
    "Empezaremos la iteración sobre cada página que escrapear..."
   ]
  },
  {
   "cell_type": "code",
   "execution_count": null,
   "metadata": {},
   "outputs": [
    {
     "name": "stdout",
     "output_type": "stream",
     "text": [
      "https://www.yapo.cl/los_rios/television_camaras/audifonos_bluetooth_73780710.htm?ca=11_s&first=1&oa=73780710&xsp=0\n",
      "Audífonos Bluetooth\n",
      "precio:$ 19.990\n",
      "Audio, TV, video y fotografía\n",
      "https://www.yapo.cl/los_rios/consolas_videojuegos/crysis_2__ps3___73780658.htm?ca=11_s&oa=73780658&xsp=1\n",
      "Crysis 2. ps3.\n",
      "precio:$ 10.000\n",
      "Consolas, videojuegos y accesorios\n",
      "https://www.yapo.cl/los_rios/celulares/lote_carcasas_iphone_4_4s_73780570.htm?ca=11_s&oa=73780570&xsp=2\n",
      "Lote carcasas iphone 4/4s\n",
      "precio:$ 10.000\n",
      "Celulares, teléfonos y accesorios\n",
      "https://www.yapo.cl/los_rios/camiones_furgones/camion_ford_cargo_1517_73780556.htm?ca=11_s&oa=73780556&xsp=3\n",
      "Camion Ford Cargo 1517\n",
      "precio:$ 7.000.000\n",
      "Buses, camiones y furgones\n",
      "https://www.yapo.cl/los_rios/autos/toyota_yaris_2006_73780540.htm?ca=11_s&oa=73780540&xsp=4\n",
      "Toyota yaris 2006\n",
      "precio:$ 3.250.000\n",
      "Autos, camionetas y 4x4\n",
      "https://www.yapo.cl/los_rios/celulares/popsocket_73780526.htm?ca=11_s&oa=73780526&xsp=5\n",
      "Popsocket\n",
      "precio:$ 2.000\n",
      "Celulares, teléfonos y accesorios\n",
      "https://www.yapo.cl/los_rios/instrumentos_musicales/teclado_piano__73780442.htm?ca=11_s&oa=73780442&xsp=6\n",
      "Teclado piano\n",
      "precio:$ 300.000\n",
      "Instrumentos musicales y accesorios\n",
      "https://www.yapo.cl/los_rios/negocios_maquinaria_construccion/maestro_electrico_72795257.htm?ca=11_s&oa=72795257&xsp=7\n",
      "Maestro Electrico\n",
      "precio:$ 12.000\n",
      "Negocios, maquinaria y construcción\n",
      "https://www.yapo.cl/los_rios/muebles/lavaplatos_mesa_redonda_73780369.htm?ca=11_s&oa=73780369&xsp=8\n",
      "Lavaplatos-Mesa redonda\n",
      "precio:$ 30.000\n",
      "Muebles\n",
      "https://www.yapo.cl/los_rios/calzado/zapatillas_skechers_d__39_lite_73780307.htm?ca=11_s&oa=73780307&xsp=9\n",
      "Zapatillas skechers D'lite\n",
      "precio:$ 15.000\n",
      "Calzado\n",
      "https://www.yapo.cl/los_rios/arrendar/departamento_town_house_isla_teja_73780291.htm?ca=11_s&oa=73780291&xsp=10\n",
      "departamento town house Isla Teja\n",
      "precio:$ 490.000\n",
      "Arriendo - Departamento\n",
      "https://www.yapo.cl/los_rios/hobbies_outdoor/carretas_artesanas_73780262.htm?ca=11_s&oa=73780262&xsp=11\n",
      "Carretas artesanas\n",
      "precio:$ 8.000\n",
      "Hobbies y outdoor\n",
      "https://www.yapo.cl/los_rios/consolas_videojuegos/destiny_edicion_legendaria_73780238.htm?ca=11_s&oa=73780238&xsp=12\n",
      "Destiny Edición Legendaria\n",
      "precio:$ 10.000\n",
      "Consolas, videojuegos y accesorios\n",
      "https://www.yapo.cl/los_rios/computadores/compro_macbook_pro_73780221.htm?ca=11_s&oa=73780221&xsp=13\n",
      "Compro macbook pro\n",
      "Computadores y accesorios\n",
      "https://www.yapo.cl/los_rios/moda-vestuario/blusa_tatienne_73779779.htm?ca=11_s&oa=73779779&xsp=14\n",
      "Blusa tatienne\n",
      "precio:$ 5.000\n",
      "Moda y vestuario\n",
      "https://www.yapo.cl/los_rios/muebles/velador_madera_maciza_perfecto_estado_73779693.htm?ca=11_s&oa=73779693&xsp=15\n",
      "Velador madera maciza perfecto estado\n",
      "precio:$ 45.000\n",
      "Muebles\n",
      "https://www.yapo.cl/los_rios/arte_antiguedades_colecciones/reloj_despertador_antiguo_73779673.htm?ca=11_s&oa=73779673&xsp=16\n",
      "Reloj despertador antiguo\n",
      "precio:$ 25.000\n",
      "Arte, antigüedades y colecciones\n",
      "https://www.yapo.cl/los_rios/autos/chevrolet_corsa_extra_ml_1_6_73779571.htm?ca=11_s&oa=73779571&xsp=17\n",
      "Chevrolet Corsa extra ML 1.6\n",
      "precio:$ 900.000\n",
      "Autos, camionetas y 4x4\n",
      "https://www.yapo.cl/los_rios/accesorios_vehiculos/balde_excavadora_72390582.htm?ca=11_s&oa=72390582&xsp=18\n",
      "Balde Excavadora\n",
      "precio:$ 2.200.000\n",
      "Accesorios y piezas para vehículos\n",
      "https://www.yapo.cl/los_rios/barcos_lanchas_aviones/velero_yate_de_bahia_73779448.htm?ca=11_s&oa=73779448&xsp=19\n",
      "Velero yate de bahia\n",
      "precio:$ 3.500.000\n",
      "Barcos, lanchas y aviones\n",
      "https://www.yapo.cl/los_rios/autos/alfa_romeo_giulietta1_4_2012_73779396.htm?ca=11_s&oa=73779396&xsp=20\n",
      "Alfa romeo giulietta1.4 2012\n",
      "precio:$ 6.500.000\n",
      "Autos, camionetas y 4x4\n",
      "https://www.yapo.cl/los_rios/autos/suzuki_swift_2017_73779393.htm?ca=11_s&oa=73779393&xsp=21\n",
      "Suzuki swift 2017\n",
      "precio:$ 6.500.000\n",
      "Autos, camionetas y 4x4\n",
      "https://www.yapo.cl/los_rios/autos/nissan_tiida_2011_73779391.htm?ca=11_s&oa=73779391&xsp=22\n",
      "Nissan tiida 2011\n",
      "precio:$ 3.700.000\n",
      "Autos, camionetas y 4x4\n",
      "https://www.yapo.cl/los_rios/autos/volkswagen_gol_2013_73779323.htm?ca=11_s&oa=73779323&xsp=23\n",
      "Volkswagen gol 2013\n",
      "precio:$ 4.350.000\n",
      "Autos, camionetas y 4x4\n",
      "https://www.yapo.cl/los_rios/autos/kia_motors_rio_2015_73779273.htm?ca=11_s&oa=73779273&xsp=24\n",
      "Kia motors rio 2015\n",
      "precio:$ 5.800.000\n",
      "Autos, camionetas y 4x4\n",
      "https://www.yapo.cl/los_rios/comprar/casa_en_desarme_73779238.htm?ca=11_s&oa=73779238&xsp=25\n",
      "Casa en desarme\n",
      "precio:$ 1.500.000\n",
      "Vendo - Casa\n",
      "https://www.yapo.cl/los_rios/servicios/regularizacion_de_viviendas__ley_del_mono_56525331.htm?ca=11_s&oa=56525331&xsp=26\n",
      "Regularización de viviendas, Ley del mono\n",
      "Servicios\n",
      "https://www.yapo.cl/los_rios/autos/volvo_v40_d2_2017_73203603.htm?ca=11_s&oa=73203603&xsp=27\n",
      "Volvo v40 d2 2017\n",
      "precio:$ 12.200.000\n",
      "Autos, camionetas y 4x4\n",
      "https://www.yapo.cl/los_rios/jardin_herramientas/accesorio_taladro_inalambrico_18_vol_makita_73779195.htm?ca=11_s&oa=73779195&xsp=28\n",
      "Accesorio Taladro inalambrico 18 Vol makita\n",
      "precio:$ 110.000\n",
      "Jardín, herramientas y exteriores\n",
      "https://www.yapo.cl/los_rios/jardin_herramientas/porton_1_70x2_73779114.htm?ca=11_s&oa=73779114&xsp=29\n",
      "Portón 1.70x2\n",
      "precio:$ 90.000\n",
      "Jardín, herramientas y exteriores\n",
      "https://www.yapo.cl/los_rios/salud-belleza/compro_alisador_de_pelo__73779108.htm?ca=11_s&oa=73779108&xsp=30\n",
      "Compro alisador de pelo\n",
      "precio:$ 20.000\n",
      "Salud y belleza\n",
      "https://www.yapo.cl/los_rios/coches-articulos-infantiles/repuestos_extractor_leche_73779066.htm?ca=11_s&oa=73779066&xsp=31\n",
      "Repuestos Extractor leche\n",
      "Coches y artículos infantiles\n",
      "https://www.yapo.cl/los_rios/computadores/pantalla_17_pulgadas_hp_omen_17_w001la_73779059.htm?ca=11_s&oa=73779059&xsp=32\n",
      "Pantalla 17 Pulgadas Hp Omen 17-w001la\n",
      "precio:$ 100.000\n",
      "Computadores y accesorios\n",
      "https://www.yapo.cl/los_rios/television_camaras/televisor_samsung_les_curvo_de_55_pulgadas_73778982.htm?ca=11_s&oa=73778982&xsp=33\n",
      "Televisor Samsung les curvo de 55 pulgadas\n",
      "Audio, TV, video y fotografía\n",
      "https://www.yapo.cl/los_rios/arrendar/minidepartamento_amoblado_71505151.htm?ca=11_s&oa=71505151&xsp=34\n",
      "Minidepartamento amoblado\n",
      "precio:$ 195.000\n",
      "Arriendo - Departamento\n",
      "https://www.yapo.cl/los_rios/arrendar/cabana_amoblada_x_mes_en_valdivia_69163517.htm?ca=11_s&oa=69163517&xsp=35\n",
      "Cabaña amoblada x mes en valdivia\n",
      "precio:$ 235.000\n",
      "Arriendo - Casa\n",
      "https://www.yapo.cl/los_rios/autos/renault_clio_2019_73778851.htm?ca=11_s&oa=73778851&xsp=36\n",
      "Renault clio 2019\n",
      "precio:$ 7.600.000\n",
      "Autos, camionetas y 4x4\n",
      "https://www.yapo.cl/los_rios/servicios/delivery_de_frutas_y_verduras_73778823.htm?ca=11_s&oa=73778823&xsp=37\n",
      "Delivery de frutas y verduras\n",
      "precio:$ 10.000\n",
      "Servicios\n",
      "https://www.yapo.cl/los_rios/accesorios_vehiculos/caja_de_cambios_chevrolet_sail_2016_1_4_73778806.htm?ca=11_s&oa=73778806&xsp=38\n",
      "Caja de Cambios Chevrolet Sail 2016 1.4\n",
      "precio:$ 180.000\n",
      "Accesorios y piezas para vehículos\n",
      "https://www.yapo.cl/los_rios/computadores/cooler_cpu_coolermaster_geminii_m4_de_bajo_perfil_73778790.htm?ca=11_s&oa=73778790&xsp=39\n",
      "Cooler CPU CoolerMaster Geminii M4 de bajo perfil\n",
      "precio:$ 30.000\n",
      "Computadores y accesorios\n",
      "https://www.yapo.cl/los_rios/salud-belleza/perfume_100ml_73778767.htm?ca=11_s&oa=73778767&xsp=40\n",
      "Perfume 100ml\n",
      "precio:$ 35.000\n",
      "Salud y belleza\n",
      "https://www.yapo.cl/los_rios/calzado/zapato_cat_mujer_73778730.htm?ca=11_s&oa=73778730&xsp=41\n",
      "Zapato cat mujer\n",
      "precio:$ 28.000\n",
      "Calzado\n",
      "https://www.yapo.cl/los_rios/busco_empleo/disponibilidad_inmediata_ayudante_de_produccion_73778691.htm?ca=11_s&oa=73778691&xsp=42\n",
      "Disponibilidad inmediata ayudante de producción\n",
      "Busco empleo\n",
      "https://www.yapo.cl/los_rios/computadores/acer_aspire_core_i3_6100u_8gb_128gb_ssd_m_2_750gb_73778665.htm?ca=11_s&oa=73778665&xsp=43\n",
      "Acer Aspire Core i3 6100U 8Gb 128Gb SSD m.2 750GB\n",
      "precio:$ 250.000\n",
      "Computadores y accesorios\n",
      "https://www.yapo.cl/los_rios/autos/suzuki_grand_nomade_4x4_full_73778663.htm?ca=11_s&oa=73778663&xsp=44\n",
      "Suzuki Grand Nomade 4x4 Full\n",
      "precio:$ 2.350.000\n",
      "Autos, camionetas y 4x4\n",
      "https://www.yapo.cl/los_rios/calzado/taco_de_cuero_73778604.htm?ca=11_s&oa=73778604&xsp=45\n",
      "Taco de cuero\n",
      "precio:$ 5.000\n",
      "Calzado\n",
      "https://www.yapo.cl/los_rios/calzado/merrel_nuevas_73778582.htm?ca=11_s&oa=73778582&xsp=46\n",
      "Merrel nuevas\n",
      "precio:$ 60.000\n",
      "Calzado\n",
      "https://www.yapo.cl/los_rios/coches-articulos-infantiles/bolsas_ecologicas_lavables_73778566.htm?ca=11_s&oa=73778566&xsp=47\n"
     ]
    },
    {
     "name": "stdout",
     "output_type": "stream",
     "text": [
      "Bolsas ecológicas lavables\n",
      "precio:$ 1.000\n",
      "Coches y artículos infantiles\n",
      "https://www.yapo.cl/los_rios/arrendar/busco_parcela__73778557.htm?ca=11_s&oa=73778557&xsp=48\n",
      "Busco Parcela\n",
      "precio:$ 4.000.000\n",
      "Arriendo - Terreno\n",
      "https://www.yapo.cl/los_rios/calzado/taco_fiesta_con_brillo_73778549.htm?ca=11_s&oa=73778549&xsp=49\n",
      "Taco fiesta con brillo\n",
      "precio:$ 10.000\n",
      "Calzado\n",
      "https://www.yapo.cl/los_rios/arrendar/busco_parcela__73778557.htm?ca=11_s&oa=73778557&xsp=0\n",
      "Busco Parcela\n",
      "precio:$ 4.000.000\n",
      "Arriendo - Terreno\n",
      "https://www.yapo.cl/los_rios/calzado/taco_fiesta_con_brillo_73778549.htm?ca=11_s&oa=73778549&xsp=1\n"
     ]
    }
   ],
   "source": [
    "for i in range(lastPage):\n",
    "    \n",
    "    #recuperarmos la URL de la pagina corriente\n",
    "    url = root_pages + str(i+1)\n",
    "    \n",
    "    #con Selenium, vamos en navegar en esta página\n",
    "    browser.get(url)\n",
    "    \n",
    "    #empezamos el scrapping de la pagina corriente\n",
    "    pageSoup = soup(browser.page_source, 'html.parser')\n",
    "    \n",
    "    #recuperamos todos los tags HTML que corresponden a la lista de anuncios en esta pagina\n",
    "    links = pageSoup.findAll('td', {'class' : 'thumbs_subject'})\n",
    "    \n",
    "    \n",
    "    #empezamos a iterar sobre cada anuncio\n",
    "    for link in links:\n",
    "        \n",
    "        #todos los datos que necesitamos encontrar\n",
    "        url, titulo, descripcion, precio, categoria=\"\",\"\",\"\",\"\",\"\"\n",
    "        telefono, nombre, ciudad, codigo_region, nombre_region, fecha_inscripcion=\"\",\"\",\"\",\"\",\"\",\"\"\n",
    "        \n",
    "        #Navegamos hacia la pagina del anuncio\n",
    "        url=link.find('a',{'class':'title'})['href']\n",
    "        print(url)\n",
    "        browser.get(link.find('a',{'class':'title'})['href'])\n",
    "        \n",
    "        \n",
    "        #RECUPERAMOS EL TITULO DEL ANUNCIO           \n",
    "        pageSoup = soup(browser.page_source, 'html.parser')\n",
    "        if(pageSoup.find('h1', {\"id\" : \"da_subject\"})):\n",
    "            titulo = pageSoup.find('h1', {\"id\" : \"da_subject\"}).text.strip()\n",
    "            print(titulo)\n",
    "            \n",
    "        #RECUPERAMOS LA DESCRIPCION DEL ANUNCIO\n",
    "        if(pageSoup.find('div', {\"class\" : \"description\"})):\n",
    "            try:\n",
    "                descripcion = pageSoup.find('div', {\"class\" : \"description\"}).text.split(' ', 1)[1].strip().replace(u'\\n', u' ')\n",
    "            except:\n",
    "                continue\n",
    "                \n",
    "        #RECUPERAMOS EL PRECIO DEL ANUNCIO\n",
    "        if(pageSoup.find('div', {\"class\" : \"price text-right\"})):\n",
    "            precio = pageSoup.find('div', {\"class\" : \"price text-right\"}).text.strip().replace(u'\\n', u' ').replace(u'\\t', u'')\n",
    "            print(\"precio:\"+precio)\n",
    "            \n",
    "        #RECUPERAMOS LA CATEGORIA DEL ANUNCIO\n",
    "        if(pageSoup.find('div', {\"class\" : \"breadcrumbs\"})):\n",
    "            categoria = pageSoup.find('div', {\"class\" : \"breadcrumbs\"}).find('a', {\"id\" : \"breadcrumb_category\"}).find('strong').text.strip().replace(u'\\n', u' ')\n",
    "            print(categoria)\n",
    "            \n",
    "        #RECUPERAMOS EL TELEFONO DEL VENDEDOR\n",
    "        \n",
    "        #...\n",
    "        \n",
    "        #RECUPERAMOS EL NOMBRE DEL VENDEDOR\n",
    "        if(pageSoup.find('aside', {\"class\" : \"sidebar-right\"})):\n",
    "            aside = pageSoup.find('aside', {\"class\" : \"sidebar-right\"})\n",
    "            nombre=aside.find('seller-info').attrs['username']\n",
    "            \n",
    "        #RECUPERAMOS LA CIUDAD DEL VENDEDOR\n",
    "        \n",
    "        #...\n",
    "        \n",
    "        #RECUPERAMOS EL CODIGO Y NOMBRE DE LA REGION\n",
    "        \n",
    "        #...\n",
    "        \n",
    "        #RECUPERAMOS LA FECHA DE INSCRIPCION\n",
    "        \n",
    "        #...\n",
    "        \n",
    "        #...\n",
    "        \n",
    "        # LLENAMOS LA BASE DE DATOS: TABLA VENDEDOR\n",
    "        \n",
    "        #...\n",
    "        \n",
    "        # LLENAMOS LA BASE DE DATOS: TABLA ANUNCIO\n",
    "        try:\n",
    "            sql = \"INSERT INTO anuncio (url, titulo, descripcion, precio, categoria) VALUES (%s, %s, %s,%s,%s)\"\n",
    "            val = (url, titulo, descripcion, precio, categoria)\n",
    "            cursor.execute(sql, val)\n",
    "        except:\n",
    "            continue\n",
    "        \n",
    "        cursor.execute(\"COMMIT\")"
   ]
  },
  {
   "cell_type": "markdown",
   "metadata": {},
   "source": [
    "# 3. Consultas SQL\n",
    "\n",
    "- ¿Cuál es el precio promedio de los anuncios por categoría?\n",
    "\n",
    "- ¿Cuál es el número de anuncios por vendedor y por día?\n",
    "\n",
    "- ¿Insertar una columna “Perfil” en la tabla Vendedor. Los Vendedores que publicaron más de 5 anuncios en los últimos 7 días, tienen un perfil “Pro”, los otros se consideran “Personal”.\n",
    "\n",
    "- ¿Cuál es el precio promedio de los anuncios según el día de la semana (lunes, martes, miercoles, etc.)\n"
   ]
  },
  {
   "cell_type": "code",
   "execution_count": null,
   "metadata": {},
   "outputs": [],
   "source": [
    "#¿Cuál es el precio promedio de los anuncios por categoría?\n",
    "\n"
   ]
  }
 ],
 "metadata": {
  "kernelspec": {
   "display_name": "NLP",
   "language": "python",
   "name": "nlp"
  },
  "language_info": {
   "codemirror_mode": {
    "name": "ipython",
    "version": 3
   },
   "file_extension": ".py",
   "mimetype": "text/x-python",
   "name": "python",
   "nbconvert_exporter": "python",
   "pygments_lexer": "ipython3",
   "version": "3.7.2"
  }
 },
 "nbformat": 4,
 "nbformat_minor": 2
}
